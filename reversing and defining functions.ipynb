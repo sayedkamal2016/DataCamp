{
 "cells": [
  {
   "cell_type": "code",
   "execution_count": null,
   "metadata": {},
   "outputs": [],
   "source": [
    "no_list = [22,68,90,78,90,88]\n",
    "\n",
    "def average(x):\n",
    "    #complete the function's body to return the average\n",
    "    y = sum(x) / len(x)\n",
    "    return y\n",
    "    \n",
    "print(average(no_list))"
   ]
  },
  {
   "cell_type": "code",
   "execution_count": null,
   "metadata": {},
   "outputs": [],
   "source": [
    "no_list = [1,2,3,4]\n",
    "\n",
    "def maximum(no_list):\n",
    "    #complete the function to return the highest number in the list\n",
    "    x = max(no_list)\n",
    "    return x\n",
    "print(maximum(no_list))"
   ]
  },
  {
   "cell_type": "code",
   "execution_count": 5,
   "metadata": {},
   "outputs": [
    {
     "name": "stdout",
     "output_type": "stream",
     "text": [
      "[1, 2, 3, 4, 5, 11, 22, 55, 66]\n"
     ]
    }
   ],
   "source": [
    "no_list = [22,22,2,1,11,11,2,2,3,3,3,4,5,5,5,55,55,66]\n",
    "\n",
    "def unique_list(l):\n",
    "    \n",
    "  #complete the function's body to return the unique list of numbers\n",
    "    list=[]\n",
    "    for item in l:\n",
    "        if item in list:\n",
    "            continue\n",
    "        else:\n",
    "            list.append(item)\n",
    "    return sorted(list)\n",
    "\n",
    "print(unique_list(no_list))"
   ]
  },
  {
   "cell_type": "code",
   "execution_count": 10,
   "metadata": {},
   "outputs": [
    {
     "name": "stdout",
     "output_type": "stream",
     "text": [
      "[66, 55, 55, 5, 5, 5, 4, 3, 3, 3, 2, 2, 11, 11, 1, 2, 22, 22]\n"
     ]
    }
   ],
   "source": [
    "no_list = [22,22,2,1,11,11,2,2,3,3,3,4,5,5,5,55,55,66]\n",
    "x = list(reversed(no_list))\n",
    "print(x)"
   ]
  },
  {
   "cell_type": "code",
   "execution_count": 14,
   "metadata": {},
   "outputs": [
    {
     "data": {
      "text/plain": [
       "['text', 'reversed', 'a', 'not', 'is', 'this']"
      ]
     },
     "execution_count": 14,
     "metadata": {},
     "output_type": "execute_result"
    }
   ],
   "source": [
    "text = \"this is not a reversed text\"\n",
    "y = text.split(' ')\n",
    "z = list(reversed(y))\n",
    "z"
   ]
  },
  {
   "cell_type": "code",
   "execution_count": 17,
   "metadata": {},
   "outputs": [
    {
     "name": "stdout",
     "output_type": "stream",
     "text": [
      "uoy kcuf lamak deyas\n"
     ]
    }
   ],
   "source": [
    "x = 'sayed kamal fuck you'\n",
    "length = len(x)\n",
    "sliced = x[length::-1]\n",
    "print(sliced)"
   ]
  },
  {
   "cell_type": "code",
   "execution_count": null,
   "metadata": {},
   "outputs": [],
   "source": []
  }
 ],
 "metadata": {
  "kernelspec": {
   "display_name": "Python",
   "language": "python",
   "name": "conda-env-python-py"
  },
  "language_info": {
   "codemirror_mode": {
    "name": "ipython",
    "version": 3
   },
   "file_extension": ".py",
   "mimetype": "text/x-python",
   "name": "python",
   "nbconvert_exporter": "python",
   "pygments_lexer": "ipython3",
   "version": "3.6.7"
  }
 },
 "nbformat": 4,
 "nbformat_minor": 4
}
